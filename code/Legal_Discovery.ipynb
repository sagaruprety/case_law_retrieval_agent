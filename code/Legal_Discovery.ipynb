{
  "nbformat": 4,
  "nbformat_minor": 0,
  "metadata": {
    "colab": {
      "provenance": [],
      "gpuType": "T4"
    },
    "kernelspec": {
      "name": "python3",
      "display_name": "Python 3"
    },
    "language_info": {
      "name": "python"
    },
    "accelerator": "GPU"
  },
  "cells": [
    {
      "cell_type": "code",
      "source": [
        "!pip install -q -U transformers langchain bitsandbytes qdrant-client\n",
        "!pip install -q -U sentence-transformers accelerate unstructured\n"
      ],
      "metadata": {
        "id": "4p040YUlxdhg"
      },
      "execution_count": null,
      "outputs": []
    },
    {
      "cell_type": "code",
      "source": [
        "from google.colab import drive\n",
        "drive.mount('/content/drive/')"
      ],
      "metadata": {
        "colab": {
          "base_uri": "https://localhost:8080/"
        },
        "id": "9RHrb9_HWbyU",
        "outputId": "f996db3e-8067-4976-f7b1-e9bf8638545e"
      },
      "execution_count": null,
      "outputs": [
        {
          "output_type": "stream",
          "name": "stdout",
          "text": [
            "Mounted at /content/drive/\n"
          ]
        }
      ]
    },
    {
      "cell_type": "code",
      "source": [
        "import os\n",
        "import torch\n",
        "from operator import itemgetter\n",
        "from transformers import BitsAndBytesConfig\n",
        "from transformers import AutoModelForCausalLM, AutoTokenizer, pipeline\n",
        "from langchain_community.llms.huggingface_pipeline import HuggingFacePipeline\n",
        "from langchain.vectorstores import Qdrant\n",
        "from langchain_core.output_parsers import StrOutputParser\n",
        "from langchain_core.runnables import RunnablePassthrough\n",
        "from langchain_core.prompts import ChatPromptTemplate, PromptTemplate\n",
        "from langchain_community.document_loaders import DirectoryLoader\n",
        "from langchain.embeddings import HuggingFaceEmbeddings\n",
        "file_path = '/content/drive/MyDrive/Colab Notebooks/data/Object_casedocs_500/'\n"
      ],
      "metadata": {
        "id": "cPE0uc7eW-C-"
      },
      "execution_count": null,
      "outputs": []
    },
    {
      "cell_type": "code",
      "source": [
        "# preparing config for quantizing the model into 4 bits\n",
        "\n",
        "quantization_config = BitsAndBytesConfig(\n",
        "    load_in_4bit=True,\n",
        "    bnb_4bit_compute_dtype=torch.float16,\n",
        "    bnb_4bit_quant_type=\"nf4\",\n",
        "    bnb_4bit_use_double_quant=True,\n",
        ")\n",
        "\n",
        "# load the tokenizer and the quantized mistral model\n",
        "model_id = \"mistralai/Mistral-7B-Instruct-v0.2\"\n",
        "model_4bit = AutoModelForCausalLM.from_pretrained(model_id, device_map=\"auto\",quantization_config=quantization_config,)\n",
        "tokenizer = AutoTokenizer.from_pretrained(model_id)\n",
        "\n",
        "# using HuggingFace's pipeline\n",
        "pipeline = pipeline(\n",
        "        \"text-generation\",\n",
        "        model=model_4bit,\n",
        "        tokenizer=tokenizer,\n",
        "        use_cache=True,\n",
        "        device_map=\"auto\",\n",
        "        max_new_tokens=5000,\n",
        "        do_sample=True,\n",
        "        top_k=3,\n",
        "        temperature = 0.01,\n",
        "        num_return_sequences=1,\n",
        "        eos_token_id=tokenizer.eos_token_id,\n",
        "        pad_token_id=tokenizer.eos_token_id,\n",
        ")\n",
        "\n"
      ],
      "metadata": {
        "id": "ELJeOAgLeDD_"
      },
      "execution_count": null,
      "outputs": []
    },
    {
      "cell_type": "code",
      "source": [
        "model = HuggingFacePipeline(pipeline=pipeline)"
      ],
      "metadata": {
        "id": "z425uC9zngj6"
      },
      "execution_count": null,
      "outputs": []
    },
    {
      "cell_type": "code",
      "source": [
        "# load the legal case documents\n",
        "from langchain.text_splitter import RecursiveCharacterTextSplitter\n",
        "\n",
        "text_splitter = RecursiveCharacterTextSplitter(\n",
        "    chunk_size=1000,\n",
        "    chunk_overlap=20,\n",
        "    length_function=len,\n",
        "    is_separator_regex=False,\n",
        ")\n",
        "\n",
        "loader = DirectoryLoader(file_path)\n",
        "docs = loader.load()\n",
        "print(len(docs))\n",
        "\n"
      ],
      "metadata": {
        "id": "RM1CQZhfZZY3"
      },
      "execution_count": null,
      "outputs": []
    },
    {
      "cell_type": "code",
      "source": [
        "docs = text_splitter.split_documents(docs)\n",
        "docs"
      ],
      "metadata": {
        "id": "Cyr0fgaq3n3X"
      },
      "execution_count": null,
      "outputs": []
    },
    {
      "cell_type": "code",
      "source": [
        "# define the embedding model\n",
        "emb_model = \"sentence-transformers/all-MiniLM-L6-v2\"\n",
        "embeddings = HuggingFaceEmbeddings(\n",
        "    model_name=emb_model,\n",
        "    cache_folder=os.getenv('SENTENCE_TRANSFORMERS_HOME'))"
      ],
      "metadata": {
        "id": "LYb999XhaAmv"
      },
      "execution_count": null,
      "outputs": []
    },
    {
      "cell_type": "code",
      "source": [
        "qdrant_collection = Qdrant.from_documents(\n",
        "docs,\n",
        "embeddings,\n",
        "location=\":memory:\", # Local mode with in-memory storage only\n",
        "collection_name=\"it_resumes\",\n",
        ")\n",
        "# construct a retriever on top of the vector store\n",
        "qdrant_retriever = qdrant_collection.as_retriever()"
      ],
      "metadata": {
        "id": "s5gEnXYdakmE"
      },
      "execution_count": null,
      "outputs": []
    },
    {
      "cell_type": "code",
      "source": [
        "# let's try a query and see the how its retrieved from the qdrant vector database\n",
        "qdrant_retriever.invoke('Cite me a dispute related to electricity board tender')"
      ],
      "metadata": {
        "id": "_4dv3_Pfp2Ru"
      },
      "execution_count": null,
      "outputs": []
    },
    {
      "cell_type": "code",
      "source": [
        "template = \"\"\"<s>[INST] You are a helpful, respectful and honest legal assistant.\n",
        "Your task is to assist lawyers in legal case discovery.\n",
        "Answer the question below from context below.\n",
        "{context}\n",
        "{question} [/INST] </s>\n",
        "\"\"\"\n",
        "\n",
        "prompt = ChatPromptTemplate.from_template(template)\n",
        "\n",
        "\n",
        "def format_docs(docs):\n",
        "    return \"\\n\\n\".join(doc.page_content for doc in docs)\n",
        "\n",
        "rag_chain = (\n",
        "    {\"context\": qdrant_retriever| format_docs, \"question\": RunnablePassthrough()}\n",
        "    | prompt\n",
        "    | model\n",
        "    | StrOutputParser()\n",
        ")\n"
      ],
      "metadata": {
        "id": "-CO_UiDCiUkN"
      },
      "execution_count": null,
      "outputs": []
    },
    {
      "cell_type": "code",
      "source": [
        "rag_chain.invoke(\"Cite me a dispute related to electricity board tender\")\n"
      ],
      "metadata": {
        "colab": {
          "base_uri": "https://localhost:8080/",
          "height": 145
        },
        "id": "xCUa9d_qoRfL",
        "outputId": "c40cb213-2759-4296-df07-8eeb7a94e7ec"
      },
      "execution_count": null,
      "outputs": [
        {
          "output_type": "execute_result",
          "data": {
            "text/plain": [
              "\"In this dispute, the Chhattisgarh State Electricity Board (CSEB) invited tenders for the Designing, Engineering, Testing, Supply, Erection & Commission of HEA Ignition system at Hasedeo Thermal Power Station (Korba West). The respondent, M/s Control Electronics India (CEI), submitted an application for the tender documents but it was rejected due to incomplete documents, specifically the non-submission of documentary evidence of past performance and experience. The respondent then complained against the appellant for not issuing the tender documents.\\n\\nHowever, the present case is not about the initial rejection of the respondent's application. Instead, it revolves around the respondent's allegations that the records were fabricated and the tender document was not opened and returned in furtherance of official duties by the appellant.\\n\\nThe Court has carefully examined the impugned advertisement issued by the Nagar Nigam and found no illegality in it. The Court has also considered the report of Ram, the General Manager of the Power Station, which stated that the respondent's equipment supplied at Patratu Thermal Power Station, Patratu, Jharkhand was not functioning well. The Tender Committee took this information into account and rejected the respondent's tender as he failed to comply with the pre-qualifying conditions despite being asked multiple times to submit the required performance report.\\n\\nTherefore, this dispute is related to the rejection of the respondent's tender by the CSEB based on the non-fulfillment of the pre-qualifying conditions.\""
            ],
            "application/vnd.google.colaboratory.intrinsic+json": {
              "type": "string"
            }
          },
          "metadata": {},
          "execution_count": 18
        }
      ]
    },
    {
      "cell_type": "code",
      "source": [
        "rag_chain.invoke(\"In the dispute related to electricity board tender, what was the outcome?\")\n"
      ],
      "metadata": {
        "colab": {
          "base_uri": "https://localhost:8080/",
          "height": 145
        },
        "id": "42VZuhjSd2BL",
        "outputId": "2bc114ca-7172-4134-bb7a-1e6c86e0eac3"
      },
      "execution_count": null,
      "outputs": [
        {
          "output_type": "execute_result",
          "data": {
            "text/plain": [
              "\"In this dispute, the respondent had filed a civil suit challenging the decision of the Electricity Board in returning his tender documents due to non-compliance with the pre-qualifying conditions. However, he withdrew the suit, leading to its dismissal for non-prosecution. The respondent's attempt to challenge the decision of the Tender Committee in not considering his tender was unfaulted due to the constructive res judicata effect of the withdrawn suit. The tender of the respondent was rejected due to the defects in the scanning system supplied by him, which adversely affected the generation at Patratu Thermal Power Station. The Tender Committee sought expert opinions and rejected the respondent's tender based on the reports received. The allegations of fabricating records made by the respondent were considered mischievous and an afterthought. The appellant, R.C. Jain, was deputed to verify the claim of the respondent, and he reported that the works carried out by the respondent at Patratu Thermal Power Station were not satisfactory. Based on this information, the respondent's tender document was not opened and returned.\""
            ],
            "application/vnd.google.colaboratory.intrinsic+json": {
              "type": "string"
            }
          },
          "metadata": {},
          "execution_count": 19
        }
      ]
    },
    {
      "cell_type": "markdown",
      "source": [
        "Now one may argue that the above query is same as the one we passed onto the qdrant retriever, and if so, what is exactly the utility of the LLM here?"
      ],
      "metadata": {
        "id": "QU4T-jJjAkiX"
      }
    },
    {
      "cell_type": "code",
      "source": [
        "from langchain_core.runnables import RunnableParallel\n",
        "\n",
        "rag_chain_from_docs = (\n",
        "    RunnablePassthrough.assign(context=(lambda x: format_docs(x[\"context\"])))\n",
        "    | prompt\n",
        "    | model\n",
        "    | StrOutputParser()\n",
        ")\n",
        "\n",
        "rag_chain_with_source = RunnableParallel(\n",
        "    {\"context\": qdrant_retriever, \"question\": RunnablePassthrough()}\n",
        ").assign(answer=rag_chain_from_docs)\n",
        "\n",
        "rag_chain_with_source.invoke(\"Cite me a dispute related to electricity board tender\")"
      ],
      "metadata": {
        "colab": {
          "base_uri": "https://localhost:8080/"
        },
        "id": "EX5unkTX_Wba",
        "outputId": "2ac8da06-62cc-484c-bfea-5793c3dde032"
      },
      "execution_count": null,
      "outputs": [
        {
          "output_type": "execute_result",
          "data": {
            "text/plain": [
              "{'context': [Document(page_content=\"The Chhattisgarh State Electricity Board (for short 'the CSEB') issued an advertisement inviting tender (NIT) bearing No. T- 136/2004 dated 02.06.2004 for its work at Hasedeo Thermal Power Station (Korba West) towards Designing, Engineering, Testing, Supply, Erection & Commission of HEA Ignition system. The applications received there under were required to be processed in three stages successively namely; Part-I (EMD); Part-II (Techno- Commercial Criteria) and Part III (Price Bid). The respondent herein submitted an application on 26.08.2004 as Chief Executive Officer of M/s Control Electronics India (CEI) requesting for Tender Document. The application was rejected on the ground that it was accompanied by incomplete documents i.e. non-submission of documentary evidence of past performance and experience of the respondent. The respondent made a complaint dated 06.09.2004 against appellant No. 3 herein alleging that the Tender Documents were not issued to the respondent. It was\", metadata={'source': '/content/drive/MyDrive/Colab Notebooks/data/Object_casedocs_500/C21.txt'}),\n",
              "  Document(page_content='25. In the present case, the respondent no.1 challenged the impugned advertisement dated 6.12.2004 issued by the Nagar Nigam. We have carefully perused the said advertisement and find no illegality in the same. It has been held by this Court in several decisions that the Court should not ordinarily interfere with the terms mentioned in such an advertisement. Thus in Global Energy Ltd. and Anr. vs. Adani Exports Ltd. and Ors. 2005(4) SCC 435 2005 Indlaw SC 384 this Court observed at para 11:\\n\\n\"The principle is, therefore, well settled that the terms of the invitation to tender are not open to judicial scrutiny and the courts cannot whittle down the terms of the tender as they are in the realm of contract unless they are wholly arbitrary, discriminatory or actuated by malice.\"', metadata={'source': '/content/drive/MyDrive/Colab Notebooks/data/Object_casedocs_500/C401.txt'}),\n",
              "  Document(page_content=\"Ram, General Manager of the said Power Station furnished his report dated 28.12.2004 wherein it was summed up that due to the defects in the scanning system, supplied by the respondent, generation had been adversely effected and the said Electricity Board was not satisfied with the equipment supplied by the respondent. In spite of the aforesaid material, the tender Committee acted with caution and even the technical expertise was sought. Even the report of the technical experts went against the respondent as it opined that the respondent was not technically suitable on the technical vetting and comparative data. On the basis of the aforesaid material, the respondent's tender document was not opened and returned and he was informed accordingly. All this has clearly happened in furtherance of and in discharge of the official duties by the appellant. In the facts of the present case, we are of the view that allegations of fabricating the records are mischievously made as an afterthought,\", metadata={'source': '/content/drive/MyDrive/Colab Notebooks/data/Object_casedocs_500/C21.txt'}),\n",
              "  Document(page_content='15. As already pointed above, tender was floated by the CSEB and the CEI herein was one of the parties who had submitted its bid through the respondent. However, tender conditions mentioned certain conditions and it was necessary to fulfill those conditions to become eligible to submit the bid and have it considered. As per the appellants, tender of the respondent was rejected on the ground that plant and equipment erected by the respondent at Patratu Thermal Power Station, Patratu, Jharkhand was not functioning well. This information was received by the Tender Committee from JSEB. When the report was sought by CSEB in December, 2004, the Tender Committee took the view that the respondent did not fulfill the pre-qualifying conditions and rejected his tender. Before doing so, the respondent was asked time and again to send the performance report which he had promised but he failed to comply even when he had assured to do the needful. In fact, that itself was sufficient to reject that', metadata={'source': '/content/drive/MyDrive/Colab Notebooks/data/Object_casedocs_500/C21.txt'})],\n",
              " 'question': 'Cite me a dispute related to electricity board tender',\n",
              " 'answer': \"In this dispute, the Chhattisgarh State Electricity Board (CSEB) invited tenders for the Designing, Engineering, Testing, Supply, Erection & Commission of HEA Ignition system at Hasedeo Thermal Power Station (Korba West). The respondent, M/s Control Electronics India (CEI), submitted an application for the tender documents but it was rejected due to incomplete documents, specifically the non-submission of documentary evidence of past performance and experience. The respondent then complained against the appellant for not issuing the tender documents.\\n\\nHowever, the present case is not about the initial rejection of the respondent's application. Instead, it revolves around the respondent's allegations that the records were fabricated and the tender document was not opened and returned in furtherance of official duties by the appellant.\\n\\nThe Court has carefully examined the impugned advertisement issued by the Nagar Nigam and found no illegality in it. The Court has also considered the report of Ram, the General Manager of the Power Station, which stated that the respondent's equipment supplied at Patratu Thermal Power Station, Patratu, Jharkhand was not functioning well. The Tender Committee took this information into account and rejected the respondent's tender as he failed to comply with the pre-qualifying conditions despite being asked multiple times to submit the required performance report.\\n\\nTherefore, this dispute is related to the rejection of the respondent's tender by the CSEB based on the non-fulfillment of the pre-qualifying conditions.\"}"
            ]
          },
          "metadata": {},
          "execution_count": 20
        }
      ]
    },
    {
      "cell_type": "code",
      "source": [],
      "metadata": {
        "id": "E58d-KI5jGcN"
      },
      "execution_count": null,
      "outputs": []
    }
  ]
}